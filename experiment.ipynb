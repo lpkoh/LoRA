{
 "cells": [
  {
   "cell_type": "code",
   "execution_count": null,
   "id": "c5ed37230628ee76",
   "metadata": {},
   "outputs": [],
   "source": [
    "!pip install labml-nn"
   ]
  },
  {
   "cell_type": "code",
   "execution_count": null,
   "id": "1b9da2e59ffce5d5",
   "metadata": {},
   "outputs": [],
   "source": [
    "from labml_nn.lora.experiment import Trainer\n",
    "from labml import experiment"
   ]
  },
  {
   "cell_type": "code",
   "execution_count": null,
   "id": "initial_id",
   "metadata": {
    "collapsed": true
   },
   "outputs": [],
   "source": [
    "experiment.create(name=\"lora_gpt2\")"
   ]
  },
  {
   "cell_type": "code",
   "execution_count": null,
   "id": "31c9bc08eca2592",
   "metadata": {},
   "outputs": [],
   "source": [
    "trainer = Trainer()"
   ]
  },
  {
   "cell_type": "code",
   "execution_count": null,
   "id": "fb6ce74326558948",
   "metadata": {},
   "outputs": [],
   "source": [
    "experiment.configs(trainer)"
   ]
  },
  {
   "cell_type": "code",
   "execution_count": null,
   "id": "1456cfab47dee3b",
   "metadata": {},
   "outputs": [],
   "source": [
    "trainer.initialize()"
   ]
  },
  {
   "cell_type": "code",
   "execution_count": null,
   "id": "3fe4068fd2df9094",
   "metadata": {},
   "outputs": [],
   "source": [
    "with experiment.start():\n",
    "    trainer.run()"
   ]
  },
  {
   "cell_type": "code",
   "execution_count": null,
   "id": "d3c3c723ebbe854a",
   "metadata": {},
   "outputs": [],
   "source": []
  }
 ],
 "metadata": {
  "kernelspec": {
   "display_name": "Python (ml)",
   "language": "python",
   "name": "ml"
  },
  "language_info": {
   "codemirror_mode": {
    "name": "ipython",
    "version": 2
   },
   "file_extension": ".py",
   "mimetype": "text/x-python",
   "name": "python",
   "nbconvert_exporter": "python",
   "pygments_lexer": "ipython2",
   "version": "2.7.6"
  }
 },
 "nbformat": 4,
 "nbformat_minor": 5
}
